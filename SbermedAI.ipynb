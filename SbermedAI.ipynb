{
  "nbformat": 4,
  "nbformat_minor": 0,
  "metadata": {
    "colab": {
      "provenance": [],
      "collapsed_sections": [],
      "authorship_tag": "ABX9TyMZnW1+ezvEkjgiDGd8L358",
      "include_colab_link": true
    },
    "kernelspec": {
      "name": "python3",
      "display_name": "Python 3"
    },
    "language_info": {
      "name": "python"
    }
  },
  "cells": [
    {
      "cell_type": "markdown",
      "metadata": {
        "id": "view-in-github",
        "colab_type": "text"
      },
      "source": [
        "<a href=\"https://colab.research.google.com/github/Viroslav/SBERMEDAI/blob/main/SbermedAI.ipynb\" target=\"_parent\"><img src=\"https://colab.research.google.com/assets/colab-badge.svg\" alt=\"Open In Colab\"/></a>"
      ]
    },
    {
      "cell_type": "code",
      "execution_count": 71,
      "metadata": {
        "id": "LAsWRYhhdli2"
      },
      "outputs": [],
      "source": [
        "import torch\n",
        "import random\n",
        "#import numpy as np\n",
        "import os\n",
        "\n",
        "torch.backends.cudnn.deterministic = True\n",
        "from torchvision.datasets import ImageFolder\n",
        "from torchvision.transforms import ToTensor\n",
        "from torchvision import datasets \n",
        "\n",
        "import torch\n",
        "import torch.nn as nn\n",
        "import torch.optim as optim\n",
        "from torch.utils.data import Dataset\n",
        "import torchvision.transforms as transforms\n",
        "from torch.utils.data import DataLoader\n",
        "import torchvision\n",
        "from skimage import io\n",
        "import pandas as pd\n",
        "from sklearn.metrics import roc_auc_score, recall_score, precision_score, f1_score\n",
        "\n",
        "\n",
        "\n",
        "# fix random seed\n",
        "random.seed(0)\n",
        "#np.random.seed(0)\n",
        "torch.manual_seed(0)\n",
        "torch.cuda.manual_seed(0)\n",
        "\n",
        "# using cuda\n",
        "device = \"cuda\" if torch.cuda.is_available() else \"cpu\""
      ]
    },
    {
      "cell_type": "code",
      "source": [
        "class SitNotSitDataset(Dataset):\n",
        "    def __init__(self, xlsx_file, root_dir, transform = None):\n",
        "        self.annotations = pd.read_excel(xlsx_file, index_col=0)\n",
        "        self.root_dir = root_dir\n",
        "        self.transform = transform\n",
        "    \n",
        "    def __len__(self):\n",
        "        return len(self.annotations)\n",
        "    \n",
        "    def __getitem__(self,index):\n",
        "        img_path = os.path.join(self.root_dir, self.annotations.iloc[index, 0])\n",
        "        image = io.imread(img_path)\n",
        "        y_label = torch.tensor(int(self.annotations.iloc[index, 1]))\n",
        "        \n",
        "        if self.transform:\n",
        "            image = self.transform(image)\n",
        "            \n",
        "        return(image, y_label)"
      ],
      "metadata": {
        "id": "Ub3y0DvYduDa"
      },
      "execution_count": 2,
      "outputs": []
    },
    {
      "cell_type": "code",
      "source": [
        "dataset = SitNotSitDataset(xlsx_file = '/content/Images/labels2.xlsx',\n",
        "                          root_dir = '/content/Images',\n",
        "                          transform = transforms.ToTensor())"
      ],
      "metadata": {
        "id": "VoP3UioRduGK"
      },
      "execution_count": 3,
      "outputs": []
    },
    {
      "cell_type": "code",
      "source": [
        "len(dataset)"
      ],
      "metadata": {
        "colab": {
          "base_uri": "https://localhost:8080/"
        },
        "id": "oDgGJ2vUduI6",
        "outputId": "3db0143c-5925-4318-fe48-bd4b978b8762"
      },
      "execution_count": 4,
      "outputs": [
        {
          "output_type": "execute_result",
          "data": {
            "text/plain": [
              "43"
            ]
          },
          "metadata": {},
          "execution_count": 4
        }
      ]
    },
    {
      "cell_type": "code",
      "source": [
        "train_size = int(0.7 * len(dataset))\n",
        "test_size = len(dataset) - train_size\n",
        "train_set, test_set = torch.utils.data.random_split(dataset, [train_size, test_size])"
      ],
      "metadata": {
        "id": "QeoXWzlSduLr"
      },
      "execution_count": 5,
      "outputs": []
    },
    {
      "cell_type": "code",
      "source": [
        "batch_size = 1"
      ],
      "metadata": {
        "id": "vOiUjVf8mCE9"
      },
      "execution_count": 6,
      "outputs": []
    },
    {
      "cell_type": "code",
      "source": [
        "train_loader = DataLoader(dataset = train_set, batch_size = batch_size, shuffle = True)\n",
        "test_loader = DataLoader(dataset = test_set, batch_size = batch_size, shuffle = True)"
      ],
      "metadata": {
        "id": "aqSpJVaPduOk"
      },
      "execution_count": 7,
      "outputs": []
    },
    {
      "cell_type": "code",
      "source": [
        "train_loader"
      ],
      "metadata": {
        "colab": {
          "base_uri": "https://localhost:8080/"
        },
        "id": "saLEOgxxm7AU",
        "outputId": "20135ede-1b58-4eea-b266-419e84f8decd"
      },
      "execution_count": 8,
      "outputs": [
        {
          "output_type": "execute_result",
          "data": {
            "text/plain": [
              "<torch.utils.data.dataloader.DataLoader at 0x7f993dc2a250>"
            ]
          },
          "metadata": {},
          "execution_count": 8
        }
      ]
    },
    {
      "cell_type": "markdown",
      "source": [
        "## Using GoogleNet"
      ],
      "metadata": {
        "id": "kEnrAtMDmE2N"
      }
    },
    {
      "cell_type": "code",
      "source": [
        "model = torchvision.models.googlenet(pretrained = True)"
      ],
      "metadata": {
        "id": "w7mWt0E3mAq4"
      },
      "execution_count": null,
      "outputs": []
    },
    {
      "cell_type": "code",
      "source": [
        "model.to(device)"
      ],
      "metadata": {
        "id": "_7MVqNFgmJwZ"
      },
      "execution_count": null,
      "outputs": []
    },
    {
      "cell_type": "markdown",
      "source": [
        "## Optimizer"
      ],
      "metadata": {
        "id": "oWuhePYymO6V"
      }
    },
    {
      "cell_type": "code",
      "source": [
        "criterion = nn.CrossEntropyLoss()\n",
        "optimizer = optim.Adam(model.parameters(), lr = 1e-3)"
      ],
      "metadata": {
        "id": "uqIcMqpXmLwl"
      },
      "execution_count": 11,
      "outputs": []
    },
    {
      "cell_type": "code",
      "source": [
        "num_epochs = 5"
      ],
      "metadata": {
        "id": "BX1qeXUVmSKc"
      },
      "execution_count": 17,
      "outputs": []
    },
    {
      "cell_type": "markdown",
      "source": [
        "## Traininng"
      ],
      "metadata": {
        "id": "MoymYbNPmUvl"
      }
    },
    {
      "cell_type": "code",
      "source": [
        "for epoch in range(num_epochs):\n",
        "    losses = []\n",
        "    \n",
        "    for batch_idx, (data, targets) in enumerate(train_loader):\n",
        "        data = data.to(device = device)\n",
        "        targets = targets.to(device = device)\n",
        "        \n",
        "        #forward\n",
        "        scores = model(data)\n",
        "        loss = criterion(scores,targets)\n",
        "        \n",
        "        losses.append(loss.item())\n",
        "        \n",
        "        #backward\n",
        "        optimizer.zero_grad()\n",
        "        loss.backward()\n",
        "        \n",
        "        #adam step\n",
        "        optimizer.step()\n",
        "    print(f\"Cost at epoch {epoch} is {sum(losses)/len(losses)}\")"
      ],
      "metadata": {
        "colab": {
          "base_uri": "https://localhost:8080/"
        },
        "id": "axVAlHYSmT9T",
        "outputId": "cdc320a4-eaa3-4b47-9372-4cb085164e70"
      },
      "execution_count": 18,
      "outputs": [
        {
          "output_type": "stream",
          "name": "stdout",
          "text": [
            "Cost at epoch 0 is 0.7226389929652214\n",
            "Cost at epoch 1 is 0.6702830205361049\n",
            "Cost at epoch 2 is 0.5239830849071344\n",
            "Cost at epoch 3 is 0.5042044512927533\n",
            "Cost at epoch 4 is 0.38671358476082485\n"
          ]
        }
      ]
    },
    {
      "cell_type": "markdown",
      "source": [
        "## Accuracy"
      ],
      "metadata": {
        "id": "kLc63-qImcHt"
      }
    },
    {
      "cell_type": "code",
      "source": [
        "def check_accuracy(loader, model):\n",
        "    num_correct = 0\n",
        "    num_samples = 0\n",
        "    model.eval()\n",
        "    y_true = []\n",
        "    y_score = []\n",
        "    \n",
        "    with torch.no_grad():\n",
        "        for x,y in loader:\n",
        "            x = x.to(device = device)\n",
        "            y = y.to(device = device)\n",
        "            \n",
        "            scores = model(x)\n",
        "            _, predictions = scores.max(1)\n",
        "            num_correct += (predictions == y).sum()\n",
        "            num_samples += predictions.size(0)\n",
        "            y_true.append(y.item())\n",
        "            y_score.append(predictions.item())\n",
        "            \n",
        "        print(f\"Got {num_correct} / {num_samples} with accuracy {float(num_correct)/float(num_samples)*100}\", '\\t',  \n",
        "              f\"and roc_auc_score: {roc_auc_score(y_true, y_score)} \")\n",
        "\n",
        "    model.train()"
      ],
      "metadata": {
        "id": "kZUYdZuzmYCd"
      },
      "execution_count": 75,
      "outputs": []
    },
    {
      "cell_type": "code",
      "source": [
        "print(\"Checking accuracy on Training Set\")\n",
        "check_accuracy(train_loader, model)"
      ],
      "metadata": {
        "colab": {
          "base_uri": "https://localhost:8080/"
        },
        "id": "xVbcnirNmYE8",
        "outputId": "0c2c5dfe-a795-465a-821c-527ac3ca9618"
      },
      "execution_count": 76,
      "outputs": [
        {
          "output_type": "stream",
          "name": "stdout",
          "text": [
            "Checking accuracy on Training Set\n",
            "Got 18 / 30 with accuracy 60.0 \t and roc_auc_score: 0.44886363636363635 \n"
          ]
        }
      ]
    },
    {
      "cell_type": "code",
      "source": [
        "print(\"Checking accuracy on Testing Set\")\n",
        "check_accuracy(test_loader, model)"
      ],
      "metadata": {
        "colab": {
          "base_uri": "https://localhost:8080/"
        },
        "id": "l80ZzB5mmYHe",
        "outputId": "106fbd85-9ab6-4f08-afcd-7bf24ea211d1"
      },
      "execution_count": 77,
      "outputs": [
        {
          "output_type": "stream",
          "name": "stdout",
          "text": [
            "Checking accuracy on Testing Set\n",
            "Got 11 / 13 with accuracy 84.61538461538461 \t and roc_auc_score: 0.6666666666666667 \n"
          ]
        }
      ]
    },
    {
      "cell_type": "code",
      "source": [],
      "metadata": {
        "id": "LdTzdeUBpK_P"
      },
      "execution_count": 77,
      "outputs": []
    }
  ]
}